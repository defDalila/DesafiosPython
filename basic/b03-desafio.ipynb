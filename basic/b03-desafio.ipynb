{
 "cells": [
  {
   "cell_type": "code",
   "execution_count": 2,
   "id": "38ab2bc3",
   "metadata": {},
   "outputs": [],
   "source": [
    "def conta_vogais(texto):\n",
    "    VOGAIS = \"aeiouAEIOU\"\n",
    "    contador = 0\n",
    "    \n",
    "    for letra in texto:\n",
    "        if letra in VOGAIS:\n",
    "            contador +=1\n",
    "\n",
    "    return contador\n",
    "\n"
   ]
  },
  {
   "cell_type": "code",
   "execution_count": 7,
   "id": "ebae249f",
   "metadata": {},
   "outputs": [
    {
     "name": "stdout",
     "output_type": "stream",
     "text": [
      "O número de vogais na string 'Iguana' é: 4\n"
     ]
    }
   ],
   "source": [
    "texto = input()\n",
    "\n",
    "resultado = conta_vogais(texto)\n",
    "\n",
    "print(f\"O número de vogais na string '{texto}' é: {resultado}\")"
   ]
  }
 ],
 "metadata": {
  "kernelspec": {
   "display_name": ".venv",
   "language": "python",
   "name": "python3"
  },
  "language_info": {
   "codemirror_mode": {
    "name": "ipython",
    "version": 3
   },
   "file_extension": ".py",
   "mimetype": "text/x-python",
   "name": "python",
   "nbconvert_exporter": "python",
   "pygments_lexer": "ipython3",
   "version": "3.13.3"
  }
 },
 "nbformat": 4,
 "nbformat_minor": 5
}
