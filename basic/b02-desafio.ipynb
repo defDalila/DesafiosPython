{
 "cells": [
  {
   "cell_type": "code",
   "execution_count": 1,
   "id": "38ab2bc3",
   "metadata": {},
   "outputs": [],
   "source": [
    "def verificador_ano_bissexto():\n",
    "    ano = int(input())\n",
    "    \n",
    "    regra_um = (ano % 4 == 0) and (ano % 100 != 0)\n",
    "    regra_dois = ano % 400 == 0\n",
    "    \n",
    "    if (regra_um or regra_dois):\n",
    "        print(\"SIM\")\n",
    "    else:\n",
    "        print(\"NÃO\")\n"
   ]
  },
  {
   "cell_type": "code",
   "execution_count": 4,
   "id": "ff449896",
   "metadata": {},
   "outputs": [
    {
     "name": "stdout",
     "output_type": "stream",
     "text": [
      "NÃO\n"
     ]
    }
   ],
   "source": [
    "verificador_ano_bissexto()"
   ]
  }
 ],
 "metadata": {
  "kernelspec": {
   "display_name": ".venv",
   "language": "python",
   "name": "python3"
  },
  "language_info": {
   "codemirror_mode": {
    "name": "ipython",
    "version": 3
   },
   "file_extension": ".py",
   "mimetype": "text/x-python",
   "name": "python",
   "nbconvert_exporter": "python",
   "pygments_lexer": "ipython3",
   "version": "3.13.3"
  }
 },
 "nbformat": 4,
 "nbformat_minor": 5
}
